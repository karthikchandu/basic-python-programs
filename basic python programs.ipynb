{
 "cells": [
  {
   "cell_type": "code",
   "execution_count": 2,
   "metadata": {},
   "outputs": [
    {
     "name": "stdout",
     "output_type": "stream",
     "text": [
      "display name:karthik\n",
      "college:ksit\n",
      "Place:bangalore\n"
     ]
    }
   ],
   "source": [
    "in1 = input(\"display name:\")\n",
    "in2 = input(\"college:\")\n",
    "in3 = input(\"Place:\")"
   ]
  },
  {
   "cell_type": "code",
   "execution_count": 3,
   "metadata": {},
   "outputs": [
    {
     "name": "stdout",
     "output_type": "stream",
     "text": [
      " enter num14\n",
      "enter num2 5\n",
      "9\n",
      "-1\n",
      "20\n",
      "0.8\n"
     ]
    }
   ],
   "source": [
    "in1 = int(input(\" enter num1\"))\n",
    "in2 = int(input(\"enter num2 \"))\n",
    "add = in1+in2\n",
    "sub = in1-in2\n",
    "mul = in1*in2\n",
    "div = in1/in2\n",
    "print(add)\n",
    "print(sub)\n",
    "print(mul)\n",
    "print(div)"
   ]
  },
  {
   "cell_type": "code",
   "execution_count": 7,
   "metadata": {},
   "outputs": [
    {
     "name": "stdout",
     "output_type": "stream",
     "text": [
      "5\n",
      "4\n",
      "6\n",
      "9.921567416492215\n"
     ]
    }
   ],
   "source": [
    "a = int(input(\"\"))\n",
    "b = int(input(\"\"))\n",
    "c = int(input(\"\"))\n",
    "s =(a+b+c)/2\n",
    "area = (s*(s-a)*(s-b)*(s-c))**0.5\n",
    "print(area)"
   ]
  },
  {
   "cell_type": "code",
   "execution_count": 2,
   "metadata": {},
   "outputs": [
    {
     "name": "stdout",
     "output_type": "stream",
     "text": [
      "enter the num: -85\n",
      "Negative\n"
     ]
    }
   ],
   "source": [
    "num = int(input(\"enter the num: \"))\n",
    "if num >0:\n",
    "    print(\"Positive\")\n",
    "else:\n",
    "    print(\"Negative\")"
   ]
  },
  {
   "cell_type": "code",
   "execution_count": 3,
   "metadata": {},
   "outputs": [
    {
     "name": "stdout",
     "output_type": "stream",
     "text": [
      "5\n",
      "6\n",
      "7\n",
      "c is biggest\n"
     ]
    }
   ],
   "source": [
    "a = int(input(\"\"))\n",
    "b = int(input(\"\"))\n",
    "c = int(input(\"\"))\n",
    "if a>b and a>c:\n",
    "    print(\"a is biggest\")\n",
    "elif b>a and b>c:\n",
    "    print(\"b is biggest\")\n",
    "else:\n",
    "    print(\"c is biggest\")"
   ]
  },
  {
   "cell_type": "code",
   "execution_count": 9,
   "metadata": {},
   "outputs": [
    {
     "name": "stdout",
     "output_type": "stream",
     "text": [
      "2000\n",
      "leap year\n"
     ]
    }
   ],
   "source": [
    "def func(year):\n",
    "    \n",
    "    \n",
    "    if (year % 4 == 0) & (year % 100 != 0)|(year%400==0):\n",
    "        \n",
    "        print(\"leap year\")\n",
    "    else:\n",
    "        print(\"Not leap year\")\n",
    "        \n",
    "in2 = int(input(\"\"))\n",
    "func(in2)"
   ]
  },
  {
   "cell_type": "code",
   "execution_count": 15,
   "metadata": {},
   "outputs": [
    {
     "name": "stdout",
     "output_type": "stream",
     "text": [
      "7\n"
     ]
    },
    {
     "data": {
      "text/plain": [
       "5040"
      ]
     },
     "execution_count": 15,
     "metadata": {},
     "output_type": "execute_result"
    }
   ],
   "source": [
    "def fact(n):\n",
    "    if n == 1:\n",
    "        return 1\n",
    "    else:\n",
    "        \n",
    "        return n*fact(n-1)\n",
    "in1 = int(input(\"\"))\n",
    "fact(in1)"
   ]
  },
  {
   "cell_type": "code",
   "execution_count": 19,
   "metadata": {},
   "outputs": [
    {
     "name": "stdout",
     "output_type": "stream",
     "text": [
      "8\n",
      "9\n",
      "gcd is  1\n",
      "lcm is  72.0\n"
     ]
    }
   ],
   "source": [
    "def gcd(a,b):\n",
    "    if a == 0:\n",
    "        return b\n",
    "    return gcd(b%a , a)\n",
    "def lcm(a,b):\n",
    "    return (a*b)/gcd(a,b)\n",
    "a = int(input(\"\"))\n",
    "b = int(input(\"\"))\n",
    "\n",
    "print(\"gcd is \", gcd(a,b))\n",
    "print(\"lcm is \", lcm(a,b))"
   ]
  },
  {
   "cell_type": "code",
   "execution_count": 21,
   "metadata": {},
   "outputs": [
    {
     "name": "stdout",
     "output_type": "stream",
     "text": [
      "sum is : 10\n",
      "average is  2.5\n"
     ]
    }
   ],
   "source": [
    "i=[1,2,3,4]\n",
    "n = len(i)\n",
    "sum = 0\n",
    "for x in i:\n",
    "    sum = sum+x\n",
    "print(\"sum is :\",sum)\n",
    "print(\"average is \",sum/n)\n",
    "    "
   ]
  },
  {
   "cell_type": "code",
   "execution_count": 27,
   "metadata": {},
   "outputs": [
    {
     "name": "stdout",
     "output_type": "stream",
     "text": [
      "enter word: geeeekkkks\n",
      "frequency of characters: {'g': 1, 'e': 4, 'k': 4, 's': 1}\n"
     ]
    }
   ],
   "source": [
    "st = input(\"enter word: \")\n",
    "d ={}\n",
    "for i in st:\n",
    "    if i in d:\n",
    "        d[i]+=1\n",
    "    else:\n",
    "        d[i] =1\n",
    "print(\"frequency of characters:\",(d))"
   ]
  },
  {
   "cell_type": "code",
   "execution_count": null,
   "metadata": {},
   "outputs": [],
   "source": []
  }
 ],
 "metadata": {
  "kernelspec": {
   "display_name": "Python 3",
   "language": "python",
   "name": "python3"
  },
  "language_info": {
   "codemirror_mode": {
    "name": "ipython",
    "version": 3
   },
   "file_extension": ".py",
   "mimetype": "text/x-python",
   "name": "python",
   "nbconvert_exporter": "python",
   "pygments_lexer": "ipython3",
   "version": "3.7.4"
  }
 },
 "nbformat": 4,
 "nbformat_minor": 4
}
